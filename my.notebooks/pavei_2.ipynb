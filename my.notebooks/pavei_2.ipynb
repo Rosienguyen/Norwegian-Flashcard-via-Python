{
 "cells": [
  {
   "cell_type": "code",
   "execution_count": null,
   "metadata": {},
   "outputs": [],
   "source": [
    "import sys\n",
    "if '..' not in sys.path:\n",
    "    sys.path.insert(1, '..')\n",
    "\n",
    "from norsk_translate import * \n",
    "import pandas as pd"
   ]
  },
  {
   "cell_type": "code",
   "execution_count": null,
   "metadata": {},
   "outputs": [],
   "source": [
    "no_text = \"\"\"KARIM GÅR PÅ NORSKKURS  \n",
    "Bianca snakker med Karim.\n",
    "Hei Karim! \n",
    "Hei Bianca! \n",
    "Hvordan går det?\n",
    "Ganske bra, takk.\n",
    "Hva gjør du nå?\n",
    "Jeg går på norskkurs.\n",
    "Når er du på norskkurs?\n",
    "Tirsdag, onsdag og fredag.  \n",
    "Hva gjør dere i klassen? \n",
    "Vi lærer norsk. Vi snakker og skriver norsk. \n",
    "Hvordan går det? \n",
    "Sånn passe. \n",
    "Er det vanskelig? \n",
    "Ja, litt. Jeg forstår ikke alt, og jeg blir sliten.\n",
    "Lykke til!  Takk for det. \n",
    "Hyggelig å snakke med deg. \n",
    "I like måte. Ha det bra. \n",
    "Ha det.\n",
    "SAMIRA GÅR PÅ NORSKKURS\n",
    "Bianca: Hei, Samira. Hvordan går det?\n",
    "Samira: Det går fint, takk. Hvordan går det med deg?\n",
    "Bianca: Det går bra. Hva gjør du nå?\n",
    "Samira: Jeg går på norskkurs.\n",
    "Bianca: Hvordan går det?\n",
    "Samira: Veldig fint. Jeg lærer mye. Vi snakker norsk i klassen.\n",
    "Bianca: Forstår du alt?\n",
    "Samira: Nei, ikke alt. Men jeg spør mye, og jeg lærer litt hver dag.\n",
    "Bianca: Men du snakker bra norsk nå.\n",
    "Samira: Tusen takk.\n",
    "Bianca snakker med Karim og Samira. De kommer fra Syria.\n",
    "Nå går de på norskkurs. Karim og Samira er gift.\n",
    "ETTER FROKOST\n",
    "Øyvind og Nikos jobber på Solvåg hotell. \n",
    "Øyvind lager frokost på kjøkkenet, og Nikos serverer. \n",
    "De har mye å gjøre. Øyvind snakker med Nikos:\n",
    "Øyvind: Bra, Nikos. Godt jobba!\n",
    "Nå tar vi oss en kopp kaffe.\n",
    "Fint. Jeg trenger en pause.\n",
    "Her er en kopp kaffe til deg. Vær så god.\n",
    "Nikos: Takk skal du ha.\n",
    "Øyvind: Liker du jobben?\n",
    "Ja, det gjør jeg. Det er hyggelig her.\n",
    "Øyvind: Enig. Litt kake?\n",
    "Nikos: Nei takk, ikke kake til meg. Men kanskje Teresa har lyst på kake?\n",
    "Øyvind: Teresa? Teresa i resepsjonen?\n",
    "Nikos: Ja.\n",
    "Øyvind: Aha! Ja, selvfølgelig. Her har du kake til Teresa.\n",
    "Øyvind og Nikos har pause. De drikker kaffe.\n",
    "Nikos spiser ikke kake. Øyvind gir ham litt kake til Teresa.\n",
    "\"\"\""
   ]
  },
  {
   "cell_type": "code",
   "execution_count": null,
   "metadata": {},
   "outputs": [],
   "source": [
    "no_text_2 = \"\"\"2.6)I RESEPSJONEN\n",
    "Teresa sitter i resepsjonen. I dag er det rolig der.\n",
    "Hun hilser på Nikos.\n",
    "Teresa: Hei, Nikos. Hyggelig å se deg.\n",
    "Nikos: I like måte.\n",
    "Vær så god. Her er litt kake til deg. Fra Øyvind.\n",
    "Teresa: Å tusen takk! Så hyggelig av ham.\n",
    "Går det bra på jobben?\n",
    "Jeg forstår ikke alt, men det går ganske bra.\n",
    "Teresa: Hvilke dager jobber du?\n",
    "Nikos: Jeg jobber vanligvis mandag, torsdag, fredag, lørdag og søndag.\n",
    "Jeg har fri tirsdag og onsdag. Og du? Når har du fri?\n",
    "Teresa: Vanligvis lørdag og søndag.\n",
    "Nikos: Hva gjør du da?\n",
    "Teresa: Da slapper jeg av sammen med Morten.\n",
    "Nikos: Åh. Er du gift?\n",
    "Teresa: Nei! Morten er en katt!\n",
    "TERESA ER RESEPSJONIST\n",
    "Jeg heter Teresa Manalo, og jeg jobber på Solvåg hotell. \n",
    "Der er jeg resepsjonist. \n",
    "Jeg tar imot gjester og bestillinger.\n",
    "Jeg har mye å gjøre, men jeg liker jobben. \n",
    "Vi får gjester fra mange land. \n",
    "Jeg snakker med dem, og jeg forteller dem om hotellet og om Solvåg.\n",
    "Jeg kommer fra Filippinene, men nå bor jeg i Norge.\"\"\""
   ]
  },
  {
   "cell_type": "code",
   "execution_count": null,
   "metadata": {},
   "outputs": [],
   "source": [
    "df = pd.DataFrame(columns=['NO', \"EN\"])\n",
    "for conv in [no_text, no_text_2]:\n",
    "    df = pd.concat ([df, translate_to_df(conv)], ignore_index=True)\n",
    "df.to_csv('../output/lesson2.csv')"
   ]
  },
  {
   "cell_type": "code",
   "execution_count": null,
   "metadata": {},
   "outputs": [],
   "source": []
  },
  {
   "cell_type": "code",
   "execution_count": null,
   "metadata": {},
   "outputs": [],
   "source": []
  }
 ],
 "metadata": {
  "interpreter": {
   "hash": "eb217331885e29750f953123af25fcea58055a6d628cea2d7a0bf5323594dfd1"
  },
  "kernelspec": {
   "display_name": "Python 3.10.0 ('norsk')",
   "language": "python",
   "name": "python3"
  },
  "language_info": {
   "codemirror_mode": {
    "name": "ipython",
    "version": 3
   },
   "file_extension": ".py",
   "mimetype": "text/x-python",
   "name": "python",
   "nbconvert_exporter": "python",
   "pygments_lexer": "ipython3",
   "version": "3.10.0"
  },
  "orig_nbformat": 4
 },
 "nbformat": 4,
 "nbformat_minor": 2
}
