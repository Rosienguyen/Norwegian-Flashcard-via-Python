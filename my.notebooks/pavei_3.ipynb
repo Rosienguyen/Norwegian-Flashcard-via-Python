{
 "cells": [
  {
   "cell_type": "code",
   "execution_count": null,
   "metadata": {},
   "outputs": [],
   "source": [
    "import sys\n",
    "if '..' not in sys.path:\n",
    "    sys.path.insert(1, '..')\n",
    "\n",
    "from norsk_translate import * \n",
    "import pandas as pd"
   ]
  },
  {
   "cell_type": "code",
   "execution_count": null,
   "metadata": {},
   "outputs": [],
   "source": [
    "no_text = \"\"\"3.2) Åse forteller\n",
    "Vekkerklokka ringer klokka halv seks.\n",
    "Da står jeg opp og tar en dusj.\n",
    "Så lager jeg kaffe og spiser frokost.\n",
    "Jeg spiser tre skiver brød og drikker to kopper kaffe.\n",
    "Jeg drikker også et glass jus.\n",
    "Jeg har en sønn. Han heter Tobias og er 15 år.\n",
    "Han går på skolen, og han sover til klokka halv åtte.\n",
    "Han er trøtt om morgenen.\n",
    "Jeg spiser frokost alene.\n",
    "Etterpå pusser jeg tennene og sminker meg.\n",
    "Jeg lager matpakke og tar med meg et eple.\n",
    "Fem over halv sju tar jeg buss til Solvåg hotell.\n",
    "Jeg begynner klokka sju og arbeider til klokka tre.\n",
    "Jeg jobber vanligvis åtte timer hver dag.\n",
    "Jeg rydder og vasker. Jeg rer senger.\n",
    "Etter jobben går jeg i butikken og kjøper mat.\n",
    "Så går jeg hjem og lager middag til Tobias og meg.\n",
    "Om ettermiddagen gjør jeg litt husarbeid.\n",
    "Om kvelden leser jeg eller ser på tv.\n",
    "Jeg legger meg litt etter klokka ti.\n",
    "Jeg sover fra klokka halv elleve til klokka halv seks om morgenen.\n",
    "ÅSE OG TOBIAS\n",
    "Jeg heter Åse Gulliksen. \n",
    "Jeg er renholder på Solvåg hotell.\n",
    "Jeg er skilt og har en sønn. \n",
    "Han heter Tobias og er 15 år. \n",
    "Han bor hos meg, men annenhver helg bor han hos faren. \n",
    "Han er en snill gutt. \n",
    "Han savner faren, tror jeg. \n",
    "Men han sier ikke så mye til meg. \n",
    "Han liker seg på skolen. \n",
    "Om ettermiddagen gjør han lekser eller sitter og spiller.\n",
    "På fredager lager vi taco. \n",
    "Vi spiser og snakker sammen. \n",
    "Etterpå koser vi oss med en film. \n",
    "Det er hyggelig, men kanskje er han for mye hjemme?\n",
    "Åse: Hei, Tobias. Hva gjør du?\n",
    "Tobias: Jeg spiller.\n",
    "Åse: Hvorfor er du ikke ute og spiller fotball med venner?\n",
    "\"\"\""
   ]
  },
  {
   "cell_type": "code",
   "execution_count": null,
   "metadata": {},
   "outputs": [],
   "source": [
    "no_text_2 = \"\"\"Tobias: Ute?\n",
    "Åse: Ja. Det er fint vær ute, og du er ofte inne.\n",
    "Tobias: Å, mamma. Ikke mas.\n",
    "Jeg treffer venner på nettet. Vi spiller og prater.\n",
    "Men du, her er en melding fra Synne i klassen. \n",
    "Hun har fest på lørdag.\n",
    "Hele klassen kommer.\n",
    "Åse: Så hyggelig.\n",
    "Tobias: Mm. Det blir gøy. \n",
    "Hun er alene hjemme, skriver hun.\n",
    "Åse: Er ikke foreldrene der?\n",
    "Tobias: Nei.\n",
    "Åse: Det liker jeg ikke.\n",
    "Tobias: Slapp av. Hun har en bror. \n",
    "Han er 20 år, og han er hjemme.\n",
    "Jeg gleder meg.\n",
    "Åse: Ja, men...\n",
    "ÅSE ER RENHOLDER\n",
    "Bianca: Hva gjør du en vanlig dag på jobben, Åse?\n",
    "Åse: Jeg rer senger, og jeg rydder og vasker og støvsuger.\n",
    "Bianca: Er jobben slitsom?\n",
    "Åse: Arbeidet er litt tungt, ja. \n",
    "Men det blir rent og ryddig, og det liker jeg.\n",
    "Bianca: Hvor mange timer jobber du hver dag?\n",
    "Åse: Atte. Jeg begynner tidlig og har fri om ettermiddagen.\n",
    "Da spiser jeg middag med Tobias. \n",
    "Etterpå studerer jeg.\n",
    "Bianca: Hva studerer du?\n",
    "Åse: Jeg studerer serviceledelse.\n",
    "Bianca: Hva er det?\n",
    "Åse: Jeg lærer blant annet om økonomi og administrasjon.\n",
    "Bianca: Så bra. Lykke til!\"\"\""
   ]
  },
  {
   "cell_type": "code",
   "execution_count": null,
   "metadata": {},
   "outputs": [],
   "source": [
    "df = pd.DataFrame(columns=['NO', \"EN\"])\n",
    "for conv in [no_text, no_text_2]:\n",
    "    df = pd.concat ([df, translate_to_df(conv)], ignore_index=True)\n",
    "df.to_csv('../output/lesson3.csv')\n"
   ]
  },
  {
   "cell_type": "code",
   "execution_count": null,
   "metadata": {},
   "outputs": [],
   "source": []
  }
 ],
 "metadata": {
  "interpreter": {
   "hash": "eb217331885e29750f953123af25fcea58055a6d628cea2d7a0bf5323594dfd1"
  },
  "kernelspec": {
   "display_name": "Python 3.10.0 ('norsk')",
   "language": "python",
   "name": "python3"
  },
  "language_info": {
   "codemirror_mode": {
    "name": "ipython",
    "version": 3
   },
   "file_extension": ".py",
   "mimetype": "text/x-python",
   "name": "python",
   "nbconvert_exporter": "python",
   "pygments_lexer": "ipython3",
   "version": "3.10.0"
  },
  "orig_nbformat": 4
 },
 "nbformat": 4,
 "nbformat_minor": 2
}
