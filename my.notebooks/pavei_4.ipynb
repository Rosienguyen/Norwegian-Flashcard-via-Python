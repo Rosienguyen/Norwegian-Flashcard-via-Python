{
 "cells": [
  {
   "cell_type": "code",
   "execution_count": 3,
   "metadata": {},
   "outputs": [],
   "source": [
    "import sys\n",
    "if '..' not in sys.path:\n",
    "    sys.path.insert(1, '..')\n",
    "\n",
    "from norsk_translate import * \n",
    "import pandas as pd"
   ]
  },
  {
   "cell_type": "code",
   "execution_count": 2,
   "metadata": {},
   "outputs": [],
   "source": [
    "pv4_1 = \"\"\"I KLASSEN\n",
    "Karim og Samira går på norskkurs. \n",
    "På kurset lærer de å snakke og skrive norsk. \n",
    "Det går ganske bra, men noen ganger er det vanskelig å forstå norsk, \n",
    "og det er vanskelig å finne ord.\n",
    "De snakker norsk med Håkon. Han er lærer.\n",
    "Håkon: Hvordan går det? Snakker dere litt norsk med nordmenn nå?\n",
    "Samira: Ja, jeg prøver å snakke norsk, men det er ikke lett.\n",
    "Jeg kan ikke så mange ord.\n",
    "Håkon: Da kan du spørre: \"Hva heter det på norsk?\"\n",
    "Eller \"Hvordan sier du det på norsk?\"\n",
    "Samira: Ja, men det er vanskelig å forstå svaret.\n",
    "Håkon: Hva kan du si da?\n",
    "Samira: Jeg kan si: Unnskyld, jeg forstår ikke.\n",
    "Kan du si det en gang til?\n",
    "Karim: Eller \"Unnskyld, kan du gjenta?\"\n",
    "Håkon: Ja, det er bra. Det kan du si.\n",
    "Karim: Noen ganger snakker folk veldig fort.\n",
    "Da sier jeg: \"Unnskyld, kan du snakke langsomt?\"\n",
    "Håkon: Snakker de langsomt da?\n",
    "Karim: Ja, noen gjør det.\n",
    "Men mange snakker bare høyt!\n",
    "Hva gjør dere på norskkurset?\n",
    "Hva er vanskelig, og hva er lett?\n",
    "Hva liker du å gjøre på norskkurset?\n",
    "Hvordan lærer du norsk?\"\"\""
   ]
  },
  {
   "cell_type": "code",
   "execution_count": 1,
   "metadata": {},
   "outputs": [],
   "source": [
    "pv4_2 = \"\"\"HVA SKAL DERE GJØRE I HELGA?\n",
    "Skal du jobbe i helga? \n",
    "Hva skal du gjøre i helga?\n",
    "Jeg vil gjerne slappe av. \n",
    "Nei, jeg skal ikke jobbe.\n",
    "Jeg skal rydde. \n",
    "Ja, jeg må jobbe lørdag.\n",
    "Jeg skal treffe venner. \n",
    "Nei, jeg skal slappe av.\n",
    "Jeg har lyst til å dra til byen. \n",
    "Ja, jeg skal jobbe litt.\n",
    "Jeg vil sove lenge. \n",
    "Nei, jeg skal gjøre lekser.\n",
    "Jeg vet ikke. \n",
    "Nei, jeg vil sove lenge.\n",
    "Håkon forteller i klassen\n",
    "Lørdag og søndag har jeg fri. \n",
    "Lørdag pleier jeg å rydde og vaske hjemme. \n",
    "Søndag slapper jeg av eller går på tur.\n",
    "Jeg gjør også litt skolearbeid. \n",
    "Men i helga skal jeg dra til Bergen. \n",
    "Der skal jeg gå på konsert. \n",
    "Jeg skal treffe en venn i Bergen. \n",
    "Jeg skal bo på hotell, og jeg skal spise på restaurant. \n",
    "Det kommer til å bli fint, tror jeg.\n",
    "Håkon: Hva skal du gjøre i helga, Emma?\n",
    "Skal du gå på tur? Eller skal du slappe av?\n",
    "Emma: Eh... Hva betyr helga?\n",
    "Håkon: Helga er lørdag og søndag.\n",
    "Hva skal du gjøre lørdag og søndag?\n",
    "Emma: Jeg skal kjøpe mat, og jeg skal rydde og vaske.\n",
    "Etterpå skal jeg trene.\n",
    "Samira: Jeg må også rydde, og etterpå skal jeg lese litt norsk.\n",
    "Håkon: Bra. Hva med deg, Adil?\n",
    "Adil: I helga vil jeg gjerne slappe av og sove lenge.\n",
    "Lørdag skal jeg dra til byen og treffe venner.\n",
    "Vi skal gå på kino. Sondag pleier jeg å gå en tur i parken.\n",
    "Håkon: Hva med deg, Karim? Hvilke planer har du?\n",
    "Karim: Jeg har to barn, en gutt og ei jente.\n",
    "Jeg skal dra i svømmehallen sammen med dem.\n",
    "Etterpå skal jeg gjøre lekser, og jeg skal se på norsk tv.\n",
    "Håkon: Og hva skal du gjøre, Sofia? Skal du gjøre lekser?\n",
    "Sofia: Nei. Jeg pleier å lese norsk i helga.\n",
    "Men nå får jeg besøk, og jeg har mye å gjøre.\n",
    "Jeg må lage mat og bake ei kake.\n",
    "Adil: Mm. Jeg er glad i kake.\n",
    "\"\"\""
   ]
  },
  {
   "cell_type": "code",
   "execution_count": 5,
   "metadata": {},
   "outputs": [],
   "source": [
    "pv4_4 = \"\"\"Jeg vil gjerne smake!\n",
    "Håkon: Hva med deg, Irina? Hva skal du gjøre i helga?\n",
    "Jeg skal jobbe lørdag. Søndag skal jeg i kirka.\n",
    "Håkon: Bra!\n",
    "Nå kan dere sitte sammen i grupper og spørre hverandre: \n",
    "Hva skal du gjøre lørdag og søndag?\n",
    "Adil: Må det være sant?\n",
    "Håkon: Nei, dere kan bruke fantasi. \n",
    "Men dere må bruke mange verb!\n",
    "I klassen snakker de om planer. \n",
    "Håkon skal reise til Bergen.\n",
    "Der skal han blant annet gå på konsert. \n",
    "Noen elever skal slappe av. \n",
    "Noen skal treffe venner.\n",
    "Noen skal jobbe. \n",
    "Håkon skriver setninger på tavla. \n",
    "Etterpå skal elevene sitte sammen i grupper og snakke.\n",
    "Hva skal elevene i norskklassen gjøre i helga?\n",
    "Hva skal du gjøre i morgen?\n",
    "Hva pleier du å gjøre i helga?\n",
    "Hva har du lyst til å gjøre i helga?\n",
    "HÅKON ER LÆRER\n",
    "Jeg heter Håkon Pedersen, og jeg kommer fra Trondheim.\n",
    "Jeg er lærer, og jeg underviser på norskkurs.\n",
    "Jeg treffer mennesker fra forskjellige land.\n",
    "De kan fortelle mange historier, og jeg lærer mye av dem.\n",
    "Vi har det hyggelig, og vi ler ofte i klassen.\n",
    "Jeg skal hjelpe dem å lære norsk, både muntlig og skriftlig.\n",
    "De skal også lære om Norge.\n",
    "Jeg liker å være lærer, og jeg er veldig glad i jobben.\"\"\""
   ]
  },
  {
   "cell_type": "code",
   "execution_count": 6,
   "metadata": {},
   "outputs": [],
   "source": [
    "df = pd.DataFrame(columns=['NO', \"EN\"])\n",
    "for conv in [pv4_1, pv4_2, pv4_4]:\n",
    "    df = pd.concat ([df, translate_to_df(conv)], ignore_index=True)\n",
    "df.to_csv('../output/lesson4.csv')\n"
   ]
  },
  {
   "cell_type": "code",
   "execution_count": null,
   "metadata": {},
   "outputs": [],
   "source": []
  }
 ],
 "metadata": {
  "interpreter": {
   "hash": "eb217331885e29750f953123af25fcea58055a6d628cea2d7a0bf5323594dfd1"
  },
  "kernelspec": {
   "display_name": "Python 3.10.0 ('norsk')",
   "language": "python",
   "name": "python3"
  },
  "language_info": {
   "codemirror_mode": {
    "name": "ipython",
    "version": 3
   },
   "file_extension": ".py",
   "mimetype": "text/x-python",
   "name": "python",
   "nbconvert_exporter": "python",
   "pygments_lexer": "ipython3",
   "version": "3.10.0"
  },
  "orig_nbformat": 4
 },
 "nbformat": 4,
 "nbformat_minor": 2
}
